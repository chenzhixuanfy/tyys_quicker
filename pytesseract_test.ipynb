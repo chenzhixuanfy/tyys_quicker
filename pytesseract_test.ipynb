{
 "cells": [
  {
   "cell_type": "markdown",
   "metadata": {},
   "source": [
    "[环境配置](https://blog.csdn.net/Castlehe/article/details/118751833)\n",
    "\n",
    "pytesseract基本只能识别排列好的文本图像（如横版或者竖版），不适合过图像验证。"
   ]
  },
  {
   "cell_type": "code",
   "execution_count": 1,
   "metadata": {},
   "outputs": [],
   "source": [
    "import json\n",
    "import re\n",
    "import random\n",
    "import ddddocr\n",
    "import numpy as np\n",
    "import cv2\n",
    "import base64\n",
    "from io import BytesIO\n",
    "from PIL import Image\n",
    "import pytesseract\n",
    "import matplotlib.pyplot as plt  \n",
    "%matplotlib inline"
   ]
  },
  {
   "cell_type": "code",
   "execution_count": 28,
   "metadata": {},
   "outputs": [],
   "source": [
    "# img = 'ocr_save/1718718003152.png'\n",
    "img = 'test.png'"
   ]
  },
  {
   "cell_type": "code",
   "execution_count": 29,
   "metadata": {},
   "outputs": [],
   "source": [
    "# tesseract_cmd = r'C:\\Program Files\\Tesseract-OCR\\tesseract'\n",
    "# pytesseract.pytesseract.tesseract_cmd =tesseract_cmd"
   ]
  },
  {
   "cell_type": "code",
   "execution_count": 30,
   "metadata": {},
   "outputs": [
    {
     "name": "stdout",
     "output_type": "stream",
     "text": [
      "目前上面两步都是基于ddddocr，可以采用更好的方案，例如使用更高级的OCR引警 (可能不方便跨平台部轩) 或者对\n",
      "图像进行预处理。\n",
      "\n",
      "在某些情况下，灰度化图像有助于提高识别准确率。\n",
      "对于第二个问题，可能需要增加延时:\n",
      "\n",
      "{'level': [1, 2, 3, 4, 5, 5, 5, 5, 5, 5, 5, 5, 5, 5, 5, 5, 5, 5, 5, 5, 5, 5, 5, 5, 5, 5, 5, 5, 5, 5, 5, 5, 5, 5, 5, 5, 5, 5, 5, 5, 5, 5, 5, 5, 4, 5, 5, 5, 5, 5, 5, 5, 2, 3, 4, 5, 5, 5, 5, 5, 5, 5, 5, 5, 5, 5, 5, 5, 5, 5, 5, 5, 5, 5, 4, 5, 5, 5, 5, 5, 5, 5, 5, 5, 5, 5, 5, 5, 5], 'page_num': [1, 1, 1, 1, 1, 1, 1, 1, 1, 1, 1, 1, 1, 1, 1, 1, 1, 1, 1, 1, 1, 1, 1, 1, 1, 1, 1, 1, 1, 1, 1, 1, 1, 1, 1, 1, 1, 1, 1, 1, 1, 1, 1, 1, 1, 1, 1, 1, 1, 1, 1, 1, 1, 1, 1, 1, 1, 1, 1, 1, 1, 1, 1, 1, 1, 1, 1, 1, 1, 1, 1, 1, 1, 1, 1, 1, 1, 1, 1, 1, 1, 1, 1, 1, 1, 1, 1, 1, 1], 'block_num': [0, 1, 1, 1, 1, 1, 1, 1, 1, 1, 1, 1, 1, 1, 1, 1, 1, 1, 1, 1, 1, 1, 1, 1, 1, 1, 1, 1, 1, 1, 1, 1, 1, 1, 1, 1, 1, 1, 1, 1, 1, 1, 1, 1, 1, 1, 1, 1, 1, 1, 1, 1, 2, 2, 2, 2, 2, 2, 2, 2, 2, 2, 2, 2, 2, 2, 2, 2, 2, 2, 2, 2, 2, 2, 2, 2, 2, 2, 2, 2, 2, 2, 2, 2, 2, 2, 2, 2, 2], 'par_num': [0, 0, 1, 1, 1, 1, 1, 1, 1, 1, 1, 1, 1, 1, 1, 1, 1, 1, 1, 1, 1, 1, 1, 1, 1, 1, 1, 1, 1, 1, 1, 1, 1, 1, 1, 1, 1, 1, 1, 1, 1, 1, 1, 1, 1, 1, 1, 1, 1, 1, 1, 1, 0, 1, 1, 1, 1, 1, 1, 1, 1, 1, 1, 1, 1, 1, 1, 1, 1, 1, 1, 1, 1, 1, 1, 1, 1, 1, 1, 1, 1, 1, 1, 1, 1, 1, 1, 1, 1], 'line_num': [0, 0, 0, 1, 1, 1, 1, 1, 1, 1, 1, 1, 1, 1, 1, 1, 1, 1, 1, 1, 1, 1, 1, 1, 1, 1, 1, 1, 1, 1, 1, 1, 1, 1, 1, 1, 1, 1, 1, 1, 1, 1, 1, 1, 2, 2, 2, 2, 2, 2, 2, 2, 0, 0, 1, 1, 1, 1, 1, 1, 1, 1, 1, 1, 1, 1, 1, 1, 1, 1, 1, 1, 1, 1, 2, 2, 2, 2, 2, 2, 2, 2, 2, 2, 2, 2, 2, 2, 2], 'word_num': [0, 0, 0, 0, 1, 2, 3, 4, 5, 6, 7, 8, 9, 10, 11, 12, 13, 14, 15, 16, 17, 18, 19, 20, 21, 22, 23, 24, 25, 26, 27, 28, 29, 30, 31, 32, 33, 34, 35, 36, 37, 38, 39, 40, 0, 1, 2, 3, 4, 5, 6, 7, 0, 0, 0, 1, 2, 3, 4, 5, 6, 7, 8, 9, 10, 11, 12, 13, 14, 15, 16, 17, 18, 19, 0, 1, 2, 3, 4, 5, 6, 7, 8, 9, 10, 11, 12, 13, 14], 'left': [0, 8, 8, 9, 9, 44, 59, 79, 95, 111, 128, 142, 169, 246, 264, 280, 313, 329, 343, 363, 394, 409, 425, 443, 459, 474, 492, 508, 532, 539, 566, 586, 606, 632, 650, 666, 697, 715, 744, 759, 772, 787, 813, 826, 8, 4, 30, 8, 81, 96, 110, 121, 7, 7, 7, 3, 30, 46, 62, 97, 109, 124, 142, 158, 175, 193, 207, 222, 238, 251, 287, 318, 351, 361, 7, 7, 26, 44, 60, 77, 71, 129, 140, 155, 173, 151, 239, 254, 264], 'top': [0, 4, 4, 4, 0, 0, 0, 5, 0, 0, 0, 0, 5, 6, 0, 0, 4, 0, 0, 0, 0, 0, 0, 0, 5, 0, 0, 0, 7, 0, 5, 4, 0, 0, 4, 0, 5, 0, 5, 0, 6, 4, 0, 0, 29, 25, 25, 29, 25, 25, 25, 25, 68, 68, 68, 64, 64, 69, 69, 64, 64, 64, 64, 64, 69, 64, 64, 64, 64, 69, 64, 64, 64, 64, 109, 109, 110, 109, 105, 105, 109, 105, 110, 105, 105, 109, 105, 105, 105], 'width': [844, 828, 828, 827, 36, 16, 21, 17, 17, 18, 15, 28, 64, 19, 17, 34, 17, 15, 21, 30, 16, 17, 19, 17, 16, 19, 17, 19, 8, 25, 12, 10, 21, 19, 17, 32, 19, 30, 15, 13, 5, 49, 14, 13, 117, 27, 18, 117, 16, 15, 12, 8, 358, 358, 358, 28, 17, 17, 47, 13, 16, 19, 17, 18, 19, 15, 16, 17, 14, 37, 32, 33, 11, 9, 262, 17, 14, 17, 18, 17, 54, 12, 12, 19, 33, 118, 16, 11, 9], 'height': [127, 40, 40, 17, 29, 29, 29, 15, 29, 29, 29, 29, 15, 13, 29, 29, 16, 29, 29, 29, 29, 29, 29, 29, 15, 29, 29, 29, 11, 29, 15, 16, 29, 29, 16, 29, 15, 29, 15, 29, 15, 16, 29, 29, 15, 28, 28, 15, 28, 28, 28, 28, 56, 56, 16, 29, 29, 15, 15, 29, 29, 29, 29, 29, 15, 29, 29, 29, 29, 15, 29, 29, 29, 29, 15, 14, 13, 15, 22, 22, 15, 22, 13, 22, 22, 15, 22, 22, 22], 'conf': [-1, -1, -1, -1, 96, 93, 86, 93, 92, 90, 96, 96, 91, 93, 96, 96, 96, 96, 96, 93, 91, 92, 96, 96, 96, 96, 95, 96, 95, 93, 92, 75, 91, 96, 96, 90, 87, 94, 93, 62, 0, 96, 96, 96, -1, 92, 87, 92, 91, 92, 93, 88, -1, -1, -1, 93, 88, 93, 96, 92, 92, 92, 84, 96, 91, 91, 93, 90, 96, 96, 95, 92, 92, 70, -1, 92, 95, 96, 96, 96, 92, 92, 92, 96, 96, 92, 0, 92, 79], 'text': ['', '', '', '', '目前', '上', '面', '两', '步', '都', '是', '基于', 'ddddocr，', '可', '以', '采用', '更', '好', '的', '方案', '，', '例', '如', '使', '用', '更', '高', '级', '的', 'OCR', '引', '警', '(可', '能', '不', '方便', '跨', '平台', '部', '轩', ')', '或', '者', '对', '', '图', '像', '进行', '预', '处', '理', '。', '', '', '', '在', '某', '些', '情况', '下', '，', '灰', '度', '化', '图', '像', '有', '助', '于', '提高', '识别', '准确', '率', '。', '', '对', '于', '第', '二', '个', '问题', '，', '可', '能', '需要', '增加', '延', '时', ':']}\n"
     ]
    },
    {
     "data": {
      "image/png": "[encoded data removed]",
      "text/plain": [
       "<Figure size 200x200 with 1 Axes>"
      ]
     },
     "metadata": {},
     "output_type": "display_data"
    }
   ],
   "source": [
    "image=Image.open(img)\n",
    "plt.figure(figsize=(2,2))\n",
    "plt.axis('off')\n",
    "plt.imshow(image)\n",
    "print(pytesseract.image_to_string(image, lang='chi_sim'))\n",
    "print(pytesseract.image_to_data(image, lang='chi_sim', output_type=pytesseract.Output.DICT))"
   ]
  },
  {
   "cell_type": "code",
   "execution_count": 5,
   "metadata": {},
   "outputs": [
    {
     "name": "stdout",
     "output_type": "stream",
     "text": [
      "['chi_sim', 'chi_sim_vert', 'chi_tra', 'chi_tra_vert', 'eng', 'osd']\n"
     ]
    }
   ],
   "source": [
    "print(pytesseract.get_languages(config=''))"
   ]
  },
  {
   "cell_type": "code",
   "execution_count": null,
   "metadata": {},
   "outputs": [],
   "source": []
  }
 ],
 "metadata": {
  "kernelspec": {
   "display_name": "crawler",
   "language": "python",
   "name": "python3"
  },
  "language_info": {
   "codemirror_mode": {
    "name": "ipython",
    "version": 3
   },
   "file_extension": ".py",
   "mimetype": "text/x-python",
   "name": "python",
   "nbconvert_exporter": "python",
   "pygments_lexer": "ipython3",
   "version": "3.9.19"
  }
 },
 "nbformat": 4,
 "nbformat_minor": 2
}
