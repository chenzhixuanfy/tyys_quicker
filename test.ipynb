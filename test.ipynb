{
 "cells": [
  {
   "cell_type": "code",
   "execution_count": 18,
   "metadata": {},
   "outputs": [],
   "source": [
    "import json\n",
    "import random"
   ]
  },
  {
   "cell_type": "code",
   "execution_count": 83,
   "metadata": {},
   "outputs": [],
   "source": [
    "with open(\"./data/info23.json\", 'r', encoding=\"utf-8\") as f:\n",
    "    info = json.load(f)"
   ]
  },
  {
   "cell_type": "code",
   "execution_count": 84,
   "metadata": {},
   "outputs": [],
   "source": [
    "def choose_space(info):\n",
    "    i = 10\n",
    "\n",
    "    # 通过操作数组顺序，选择场地号\n",
    "    target_space = info.pop(i - 1) # 提取出目标场地\n",
    "    random.shuffle(info) # 打乱列表的其余位置\n",
    "    info.insert(0, target_space) # 将目标场地插入到首位\n",
    "\n",
    "\n",
    "    for space in info:\n",
    "        print(space)\n",
    "        for key, value in space.items():\n",
    "            if key.isnumeric() and value[\"reservationStatus\"] == 1 and value[\"startDate\"] in [\"2024-06-20 21:30\"]:\n",
    "                # if reserver.n_site == 2:\n",
    "                #     if str(int(key) + 1) in space.keys() and space[key + 1][\"reservationStatus\"] == 1:\n",
    "                #         return [{\n",
    "                #             \"spaceId\": str(space[\"id\"]), \"timeId\": str(int(key) + 1), \"venueSpaceGroupId\": None\n",
    "                #         }, {\n",
    "                #             \"spaceId\": str(space[\"id\"]), \"timeId\": str(key), \"venueSpaceGroupId\": None\n",
    "                #         }]\n",
    "                # else:\n",
    "                return [{\n",
    "                    \"spaceId\": str(space[\"id\"]), \"timeId\": str(key), \"venueSpaceGroupId\": None\n",
    "                }]\n",
    "    return []"
   ]
  },
  {
   "cell_type": "code",
   "execution_count": 85,
   "metadata": {},
   "outputs": [
    {
     "name": "stdout",
     "output_type": "stream",
     "text": [
      "{'6980': {'tradeNo': 'D240304275779', 'orderId': None, 'reservationStatus': 4, 'orderFee': 0.0, 'startDate': '2024-06-20 13:30', 'endDate': '2024-06-20 14:30', 'useNum': 1, 'waitNum': 0, 'alreadyNum': 1, 'reservationSummary': None, 'adminTake': False, 'adminRemark': None, 'orderName': None, 'orderUid': None, 'orderRoleId': None, 'orderRoleIdStr': None, 'orderDetailId': '708785', 'orderType': 5, 'takeUp': False, 'takeUpExplain': None, 'buddyNum': None, 'gateInCount': None, 'isGateIn': None}, '6982': {'tradeNo': 'D240304275779', 'orderId': None, 'reservationStatus': 4, 'orderFee': 0.0, 'startDate': '2024-06-20 15:30', 'endDate': '2024-06-20 16:30', 'useNum': 1, 'waitNum': 0, 'alreadyNum': 1, 'reservationSummary': None, 'adminTake': False, 'adminRemark': None, 'orderName': None, 'orderUid': None, 'orderRoleId': None, 'orderRoleIdStr': None, 'orderDetailId': '708787', 'orderType': 5, 'takeUp': False, 'takeUpExplain': None, 'buddyNum': None, 'gateInCount': None, 'isGateIn': None}, '6981': {'tradeNo': 'D240304275779', 'orderId': None, 'reservationStatus': 4, 'orderFee': 0.0, 'startDate': '2024-06-20 14:30', 'endDate': '2024-06-20 15:30', 'useNum': 1, 'waitNum': 0, 'alreadyNum': 1, 'reservationSummary': None, 'adminTake': False, 'adminRemark': None, 'orderName': None, 'orderUid': None, 'orderRoleId': None, 'orderRoleIdStr': None, 'orderDetailId': '708786', 'orderType': 5, 'takeUp': False, 'takeUpExplain': None, 'buddyNum': None, 'gateInCount': None, 'isGateIn': None}, '6984': {'tradeNo': 'D240618000105', 'orderId': None, 'reservationStatus': 4, 'orderFee': 0.0, 'startDate': '2024-06-20 18:30', 'endDate': '2024-06-20 19:30', 'useNum': 1, 'waitNum': 0, 'alreadyNum': 1, 'reservationSummary': None, 'adminTake': False, 'adminRemark': None, 'orderName': None, 'orderUid': None, 'orderRoleId': None, 'orderRoleIdStr': None, 'orderDetailId': '806513', 'orderType': 1, 'takeUp': False, 'takeUpExplain': None, 'buddyNum': None, 'gateInCount': None, 'isGateIn': None}, '6983': {'tradeNo': 'D240304275779', 'orderId': None, 'reservationStatus': 4, 'orderFee': 0.0, 'startDate': '2024-06-20 16:30', 'endDate': '2024-06-20 17:30', 'useNum': 1, 'waitNum': 0, 'alreadyNum': 1, 'reservationSummary': None, 'adminTake': False, 'adminRemark': None, 'orderName': None, 'orderUid': None, 'orderRoleId': None, 'orderRoleIdStr': None, 'orderDetailId': '708788', 'orderType': 5, 'takeUp': False, 'takeUpExplain': None, 'buddyNum': None, 'gateInCount': None, 'isGateIn': None}, 'venueSpaceGroupId': None, 'spaceName': '10号', '6975': {'tradeNo': 'D240304275779', 'orderId': None, 'reservationStatus': 4, 'orderFee': 0.0, 'startDate': '2024-06-20 07:30', 'endDate': '2024-06-20 08:30', 'useNum': 1, 'waitNum': 0, 'alreadyNum': 1, 'reservationSummary': None, 'adminTake': False, 'adminRemark': None, 'orderName': None, 'orderUid': None, 'orderRoleId': None, 'orderRoleIdStr': None, 'orderDetailId': '708781', 'orderType': 5, 'takeUp': False, 'takeUpExplain': None, 'buddyNum': None, 'gateInCount': None, 'isGateIn': None}, '6986': {'tradeNo': 'D240618000097', 'orderId': None, 'reservationStatus': 4, 'orderFee': 0.0, 'startDate': '2024-06-20 20:30', 'endDate': '2024-06-20 21:30', 'useNum': 1, 'waitNum': 0, 'alreadyNum': 1, 'reservationSummary': None, 'adminTake': False, 'adminRemark': None, 'orderName': None, 'orderUid': None, 'orderRoleId': None, 'orderRoleIdStr': None, 'orderDetailId': '806505', 'orderType': 1, 'takeUp': False, 'takeUpExplain': None, 'buddyNum': None, 'gateInCount': None, 'isGateIn': None}, '6985': {'tradeNo': 'D240618000110', 'orderId': None, 'reservationStatus': 4, 'orderFee': 0.0, 'startDate': '2024-06-20 19:30', 'endDate': '2024-06-20 20:30', 'useNum': 1, 'waitNum': 0, 'alreadyNum': 1, 'reservationSummary': None, 'adminTake': False, 'adminRemark': None, 'orderName': None, 'orderUid': None, 'orderRoleId': None, 'orderRoleIdStr': None, 'orderDetailId': '806518', 'orderType': 1, 'takeUp': False, 'takeUpExplain': None, 'buddyNum': None, 'gateInCount': None, 'isGateIn': None}, '6977': {'tradeNo': 'D240304275779', 'orderId': None, 'reservationStatus': 4, 'orderFee': 0.0, 'startDate': '2024-06-20 09:30', 'endDate': '2024-06-20 10:30', 'useNum': 1, 'waitNum': 0, 'alreadyNum': 1, 'reservationSummary': None, 'adminTake': False, 'adminRemark': None, 'orderName': None, 'orderUid': None, 'orderRoleId': None, 'orderRoleIdStr': None, 'orderDetailId': '708782', 'orderType': 5, 'takeUp': False, 'takeUpExplain': None, 'buddyNum': None, 'gateInCount': None, 'isGateIn': None}, 'id': 102, 'venueSiteId': 23, '6976': {'tradeNo': 'D240304275779', 'orderId': None, 'reservationStatus': 4, 'orderFee': 0.0, 'startDate': '2024-06-20 08:30', 'endDate': '2024-06-20 09:30', 'useNum': 1, 'waitNum': 0, 'alreadyNum': 1, 'reservationSummary': None, 'adminTake': False, 'adminRemark': None, 'orderName': None, 'orderUid': None, 'orderRoleId': None, 'orderRoleIdStr': None, 'orderDetailId': '708783', 'orderType': 5, 'takeUp': False, 'takeUpExplain': None, 'buddyNum': None, 'gateInCount': None, 'isGateIn': None}, '6987': {'tradeNo': 'D240618000119', 'orderId': None, 'reservationStatus': 4, 'orderFee': 0.0, 'startDate': '2024-06-20 21:30', 'endDate': '2024-06-20 22:30', 'useNum': 1, 'waitNum': 0, 'alreadyNum': 1, 'reservationSummary': None, 'adminTake': False, 'adminRemark': None, 'orderName': None, 'orderUid': None, 'orderRoleId': None, 'orderRoleIdStr': None, 'orderDetailId': '806527', 'orderType': 1, 'takeUp': False, 'takeUpExplain': None, 'buddyNum': None, 'gateInCount': None, 'isGateIn': None}, '6979': {'tradeNo': None, 'orderId': None, 'reservationStatus': 1, 'orderFee': None, 'startDate': '2024-06-20 11:50', 'endDate': '2024-06-20 12:50', 'useNum': 0, 'waitNum': 0, 'alreadyNum': 0, 'reservationSummary': None, 'adminTake': False, 'adminRemark': None, 'orderName': None, 'orderUid': None, 'orderRoleId': None, 'orderRoleIdStr': None, 'orderDetailId': None, 'orderType': None, 'takeUp': False, 'takeUpExplain': None, 'buddyNum': None, 'gateInCount': None, 'isGateIn': None}, '6978': {'tradeNo': 'D240304275779', 'orderId': None, 'reservationStatus': 4, 'orderFee': 0.0, 'startDate': '2024-06-20 10:30', 'endDate': '2024-06-20 11:30', 'useNum': 1, 'waitNum': 0, 'alreadyNum': 1, 'reservationSummary': None, 'adminTake': False, 'adminRemark': None, 'orderName': None, 'orderUid': None, 'orderRoleId': None, 'orderRoleIdStr': None, 'orderDetailId': '708784', 'orderType': 5, 'takeUp': False, 'takeUpExplain': None, 'buddyNum': None, 'gateInCount': None, 'isGateIn': None}}\n",
      "{'6980': {'tradeNo': 'D240304275779', 'orderId': None, 'reservationStatus': 4, 'orderFee': 0.0, 'startDate': '2024-06-20 13:30', 'endDate': '2024-06-20 14:30', 'useNum': 1, 'waitNum': 0, 'alreadyNum': 1, 'reservationSummary': None, 'adminTake': False, 'adminRemark': None, 'orderName': None, 'orderUid': None, 'orderRoleId': None, 'orderRoleIdStr': None, 'orderDetailId': '707601', 'orderType': 5, 'takeUp': False, 'takeUpExplain': None, 'buddyNum': None, 'gateInCount': None, 'isGateIn': None}, '6982': {'tradeNo': 'D240304275779', 'orderId': None, 'reservationStatus': 4, 'orderFee': 0.0, 'startDate': '2024-06-20 15:30', 'endDate': '2024-06-20 16:30', 'useNum': 1, 'waitNum': 0, 'alreadyNum': 1, 'reservationSummary': None, 'adminTake': False, 'adminRemark': None, 'orderName': None, 'orderUid': None, 'orderRoleId': None, 'orderRoleIdStr': None, 'orderDetailId': '707603', 'orderType': 5, 'takeUp': False, 'takeUpExplain': None, 'buddyNum': None, 'gateInCount': None, 'isGateIn': None}, '6981': {'tradeNo': 'D240304275779', 'orderId': None, 'reservationStatus': 4, 'orderFee': 0.0, 'startDate': '2024-06-20 14:30', 'endDate': '2024-06-20 15:30', 'useNum': 1, 'waitNum': 0, 'alreadyNum': 1, 'reservationSummary': None, 'adminTake': False, 'adminRemark': None, 'orderName': None, 'orderUid': None, 'orderRoleId': None, 'orderRoleIdStr': None, 'orderDetailId': '707602', 'orderType': 5, 'takeUp': False, 'takeUpExplain': None, 'buddyNum': None, 'gateInCount': None, 'isGateIn': None}, '6984': {'tradeNo': 'D240618000122', 'orderId': None, 'reservationStatus': 4, 'orderFee': 0.0, 'startDate': '2024-06-20 18:30', 'endDate': '2024-06-20 19:30', 'useNum': 1, 'waitNum': 0, 'alreadyNum': 1, 'reservationSummary': None, 'adminTake': False, 'adminRemark': None, 'orderName': None, 'orderUid': None, 'orderRoleId': None, 'orderRoleIdStr': None, 'orderDetailId': '806530', 'orderType': 1, 'takeUp': False, 'takeUpExplain': None, 'buddyNum': None, 'gateInCount': None, 'isGateIn': None}, '6983': {'tradeNo': 'D240304275779', 'orderId': None, 'reservationStatus': 4, 'orderFee': 0.0, 'startDate': '2024-06-20 16:30', 'endDate': '2024-06-20 17:30', 'useNum': 1, 'waitNum': 0, 'alreadyNum': 1, 'reservationSummary': None, 'adminTake': False, 'adminRemark': None, 'orderName': None, 'orderUid': None, 'orderRoleId': None, 'orderRoleIdStr': None, 'orderDetailId': '707604', 'orderType': 5, 'takeUp': False, 'takeUpExplain': None, 'buddyNum': None, 'gateInCount': None, 'isGateIn': None}, 'venueSpaceGroupId': None, 'spaceName': '8号', '6975': {'tradeNo': 'D240304275779', 'orderId': None, 'reservationStatus': 4, 'orderFee': 0.0, 'startDate': '2024-06-20 07:30', 'endDate': '2024-06-20 08:30', 'useNum': 1, 'waitNum': 0, 'alreadyNum': 1, 'reservationSummary': None, 'adminTake': False, 'adminRemark': None, 'orderName': None, 'orderUid': None, 'orderRoleId': None, 'orderRoleIdStr': None, 'orderDetailId': '707597', 'orderType': 5, 'takeUp': False, 'takeUpExplain': None, 'buddyNum': None, 'gateInCount': None, 'isGateIn': None}, '6986': {'tradeNo': 'D240618000093', 'orderId': None, 'reservationStatus': 4, 'orderFee': 0.0, 'startDate': '2024-06-20 20:30', 'endDate': '2024-06-20 21:30', 'useNum': 1, 'waitNum': 0, 'alreadyNum': 1, 'reservationSummary': None, 'adminTake': False, 'adminRemark': None, 'orderName': None, 'orderUid': None, 'orderRoleId': None, 'orderRoleIdStr': None, 'orderDetailId': '806501', 'orderType': 1, 'takeUp': False, 'takeUpExplain': None, 'buddyNum': None, 'gateInCount': None, 'isGateIn': None}, '6985': {'tradeNo': 'D240618000091', 'orderId': None, 'reservationStatus': 4, 'orderFee': 0.0, 'startDate': '2024-06-20 19:30', 'endDate': '2024-06-20 20:30', 'useNum': 1, 'waitNum': 0, 'alreadyNum': 1, 'reservationSummary': None, 'adminTake': False, 'adminRemark': None, 'orderName': None, 'orderUid': None, 'orderRoleId': None, 'orderRoleIdStr': None, 'orderDetailId': '806499', 'orderType': 1, 'takeUp': False, 'takeUpExplain': None, 'buddyNum': None, 'gateInCount': None, 'isGateIn': None}, '6977': {'tradeNo': 'D240304275779', 'orderId': None, 'reservationStatus': 4, 'orderFee': 0.0, 'startDate': '2024-06-20 09:30', 'endDate': '2024-06-20 10:30', 'useNum': 1, 'waitNum': 0, 'alreadyNum': 1, 'reservationSummary': None, 'adminTake': False, 'adminRemark': None, 'orderName': None, 'orderUid': None, 'orderRoleId': None, 'orderRoleIdStr': None, 'orderDetailId': '707598', 'orderType': 5, 'takeUp': False, 'takeUpExplain': None, 'buddyNum': None, 'gateInCount': None, 'isGateIn': None}, 'id': 100, 'venueSiteId': 23, '6976': {'tradeNo': 'D240304275779', 'orderId': None, 'reservationStatus': 4, 'orderFee': 0.0, 'startDate': '2024-06-20 08:30', 'endDate': '2024-06-20 09:30', 'useNum': 1, 'waitNum': 0, 'alreadyNum': 1, 'reservationSummary': None, 'adminTake': False, 'adminRemark': None, 'orderName': None, 'orderUid': None, 'orderRoleId': None, 'orderRoleIdStr': None, 'orderDetailId': '707599', 'orderType': 5, 'takeUp': False, 'takeUpExplain': None, 'buddyNum': None, 'gateInCount': None, 'isGateIn': None}, '6987': {'tradeNo': None, 'orderId': None, 'reservationStatus': 1, 'orderFee': None, 'startDate': '2024-06-20 21:30', 'endDate': '2024-06-20 22:30', 'useNum': 0, 'waitNum': 0, 'alreadyNum': 0, 'reservationSummary': None, 'adminTake': False, 'adminRemark': None, 'orderName': None, 'orderUid': None, 'orderRoleId': None, 'orderRoleIdStr': None, 'orderDetailId': None, 'orderType': None, 'takeUp': False, 'takeUpExplain': None, 'buddyNum': None, 'gateInCount': None, 'isGateIn': None}, '6979': {'tradeNo': None, 'orderId': None, 'reservationStatus': 1, 'orderFee': None, 'startDate': '2024-06-20 11:50', 'endDate': '2024-06-20 12:50', 'useNum': 0, 'waitNum': 0, 'alreadyNum': 0, 'reservationSummary': None, 'adminTake': False, 'adminRemark': None, 'orderName': None, 'orderUid': None, 'orderRoleId': None, 'orderRoleIdStr': None, 'orderDetailId': None, 'orderType': None, 'takeUp': False, 'takeUpExplain': None, 'buddyNum': None, 'gateInCount': None, 'isGateIn': None}, '6978': {'tradeNo': 'D240304275779', 'orderId': None, 'reservationStatus': 4, 'orderFee': 0.0, 'startDate': '2024-06-20 10:30', 'endDate': '2024-06-20 11:30', 'useNum': 1, 'waitNum': 0, 'alreadyNum': 1, 'reservationSummary': None, 'adminTake': False, 'adminRemark': None, 'orderName': None, 'orderUid': None, 'orderRoleId': None, 'orderRoleIdStr': None, 'orderDetailId': '707600', 'orderType': 5, 'takeUp': False, 'takeUpExplain': None, 'buddyNum': None, 'gateInCount': None, 'isGateIn': None}}\n"
     ]
    },
    {
     "data": {
      "text/plain": [
       "[{'spaceId': '100', 'timeId': '6987', 'venueSpaceGroupId': None}]"
      ]
     },
     "execution_count": 85,
     "metadata": {},
     "output_type": "execute_result"
    }
   ],
   "source": [
    "choose_space(info)"
   ]
  },
  {
   "cell_type": "code",
   "execution_count": 30,
   "metadata": {},
   "outputs": [
    {
     "name": "stdout",
     "output_type": "stream",
     "text": [
      "[1, 2, 3, 4, 5, 6, 7]\n",
      "[7, 3, 5, 1, 6, 2, 4]\n"
     ]
    }
   ],
   "source": [
    "info = list(range(1, 8))\n",
    "print(info)\n",
    "\n",
    "i = 7\n",
    "target_space = info.pop(i - 1) # 提取出目标场地\n",
    "random.shuffle(info) # 打乱列表的其余位置\n",
    "info.insert(0, target_space) # 将目标场地插入到首位\n",
    "\n",
    "print(info)"
   ]
  },
  {
   "cell_type": "code",
   "execution_count": 86,
   "metadata": {},
   "outputs": [
    {
     "data": {
      "text/plain": [
       "20"
      ]
     },
     "execution_count": 86,
     "metadata": {},
     "output_type": "execute_result"
    }
   ],
   "source": [
    "len(info)"
   ]
  },
  {
   "cell_type": "code",
   "execution_count": 99,
   "metadata": {},
   "outputs": [
    {
     "data": {
      "text/plain": [
       "1"
      ]
     },
     "execution_count": 99,
     "metadata": {},
     "output_type": "execute_result"
    }
   ],
   "source": [
    "int(random.randint(1, 2))"
   ]
  },
  {
   "cell_type": "code",
   "execution_count": null,
   "metadata": {},
   "outputs": [],
   "source": []
  },
  {
   "cell_type": "code",
   "execution_count": null,
   "metadata": {},
   "outputs": [],
   "source": []
  }
 ],
 "metadata": {
  "kernelspec": {
   "display_name": "crawler",
   "language": "python",
   "name": "python3"
  },
  "language_info": {
   "codemirror_mode": {
    "name": "ipython",
    "version": 3
   },
   "file_extension": ".py",
   "mimetype": "text/x-python",
   "name": "python",
   "nbconvert_exporter": "python",
   "pygments_lexer": "ipython3",
   "version": "3.9.19"
  }
 },
 "nbformat": 4,
 "nbformat_minor": 2
}
