{
 "cells": [
  {
   "cell_type": "code",
   "execution_count": 100,
   "metadata": {},
   "outputs": [],
   "source": [
    "import json\n",
    "import random\n",
    "import ddddocr\n",
    "import numpy as np\n",
    "import cv2\n",
    "import base64\n",
    "from io import BytesIO"
   ]
  },
  {
   "cell_type": "markdown",
   "metadata": {},
   "source": [
    "点字验证测试（知道为什么作者要屏蔽终端的输出了，因为会不可避免的输出一些奇怪的东西）"
   ]
  },
  {
   "cell_type": "code",
   "execution_count": 103,
   "metadata": {},
   "outputs": [],
   "source": [
    "with open(\"./data/click_word.json\", 'r', encoding=\"utf-8\") as f:\n",
    "    data = json.load(f)"
   ]
  },
  {
   "cell_type": "code",
   "execution_count": 119,
   "metadata": {},
   "outputs": [],
   "source": [
    "def ocr_captcha(base64_img, word_list):\n",
    "    det = ddddocr.DdddOcr(det=True)\n",
    "    ocr = ddddocr.DdddOcr(beta=True)\n",
    "\n",
    "    img = base64.b64decode(base64_img)\n",
    "    stream = BytesIO(img)\n",
    "    image_bytes = stream.read()\n",
    "\n",
    "    poses = det.detection(image_bytes)\n",
    "    print('poses: ', poses)\n",
    "\n",
    "    arr = np.frombuffer(img, np.uint8)\n",
    "    im = cv2.imdecode(arr, cv2.IMREAD_COLOR)\n",
    "\n",
    "    decode_dict = {}\n",
    "    for box in poses:\n",
    "        x1, y1, x2, y2 = box\n",
    "        cropped_img = im[y1:y2, x1:x2]\n",
    "        cv2.imwrite(\"cropped.jpg\", cropped_img)\n",
    "        with open(\"cropped.jpg\", 'rb') as f:\n",
    "            cropped_img = f.read()\n",
    "        res = ocr.classification(cropped_img)\n",
    "        print(res)\n",
    "        decode_dict[res] = {\n",
    "            'x': int((x1 + x2) / 2),\n",
    "            'y': int((y1 + y2) / 2),\n",
    "        }\n",
    "    print('decode_dict: ', decode_dict)\n",
    "\n",
    "    res = []\n",
    "    for word in word_list:\n",
    "        if word in decode_dict.keys():\n",
    "            res.append(decode_dict[word])\n",
    "        else:\n",
    "            candidates = list(filter(lambda x: x not in word_list, decode_dict.keys()))\n",
    "            # 碰运气\n",
    "            res.append(decode_dict[random.choice(candidates)])\n",
    "    return res"
   ]
  },
  {
   "cell_type": "code",
   "execution_count": 120,
   "metadata": {},
   "outputs": [
    {
     "name": "stdout",
     "output_type": "stream",
     "text": [
      "欢迎使用ddddocr，本项目专注带动行业内卷，个人博客:wenanzhe.com\n",
      "训练数据支持来源于:http://146.56.204.113:19199/preview\n",
      "爬虫框架feapder可快速一键接入，快速开启爬虫之旅：https://github.com/Boris-code/feapder\n",
      "谷歌reCaptcha验证码 / hCaptcha验证码 / funCaptcha验证码商业级识别接口：https://yescaptcha.com/i/NSwk7i\n",
      "欢迎使用ddddocr，本项目专注带动行业内卷，个人博客:wenanzhe.com\n",
      "训练数据支持来源于:http://146.56.204.113:19199/preview\n",
      "爬虫框架feapder可快速一键接入，快速开启爬虫之旅：https://github.com/Boris-code/feapder\n",
      "谷歌reCaptcha验证码 / hCaptcha验证码 / funCaptcha验证码商业级识别接口：https://yescaptcha.com/i/NSwk7i\n",
      "poses:  [[226, 89, 256, 119], [48, 19, 76, 46], [95, 85, 125, 115], [161, 71, 191, 101], [187, 61, 211, 88]]\n",
      "生\n",
      "几\n",
      "直\n",
      "怎\n",
      "养\n",
      "decode_dict:  {'生': {'x': 241, 'y': 104}, '几': {'x': 62, 'y': 32}, '直': {'x': 110, 'y': 100}, '怎': {'x': 176, 'y': 86}, '养': {'x': 199, 'y': 74}}\n"
     ]
    }
   ],
   "source": [
    "base64_img = data['originalImageBase64']\n",
    "word_list = data['wordList']\n",
    "token = data['token']\n",
    "point_arr = ocr_captcha(base64_img, word_list)"
   ]
  },
  {
   "cell_type": "code",
   "execution_count": 110,
   "metadata": {},
   "outputs": [
    {
     "data": {
      "text/plain": [
       "[{'x': 241, 'y': 104}, {'x': 62, 'y': 32}, {'x': 110, 'y': 100}]"
      ]
     },
     "execution_count": 110,
     "metadata": {},
     "output_type": "execute_result"
    }
   ],
   "source": [
    "point_arr"
   ]
  },
  {
   "cell_type": "code",
   "execution_count": 108,
   "metadata": {},
   "outputs": [
    {
     "data": {
      "text/plain": [
       "['生', '几', '直']"
      ]
     },
     "execution_count": 108,
     "metadata": {},
     "output_type": "execute_result"
    }
   ],
   "source": [
    "word_list"
   ]
  },
  {
   "cell_type": "code",
   "execution_count": 109,
   "metadata": {},
   "outputs": [],
   "source": [
    "def decode_base64_to_image(base64_string, output_path):\n",
    "    with open(output_path, \"wb\") as image_file:\n",
    "        image_file.write(base64.b64decode(base64_string))\n",
    "\n",
    "# 示例用法\n",
    "output_path = \"decoded_image.png\"\n",
    "decode_base64_to_image(base64_img, output_path)"
   ]
  },
  {
   "cell_type": "code",
   "execution_count": null,
   "metadata": {},
   "outputs": [],
   "source": []
  }
 ],
 "metadata": {
  "kernelspec": {
   "display_name": "crawler",
   "language": "python",
   "name": "python3"
  },
  "language_info": {
   "codemirror_mode": {
    "name": "ipython",
    "version": 3
   },
   "file_extension": ".py",
   "mimetype": "text/x-python",
   "name": "python",
   "nbconvert_exporter": "python",
   "pygments_lexer": "ipython3",
   "version": "3.9.19"
  }
 },
 "nbformat": 4,
 "nbformat_minor": 2
}
